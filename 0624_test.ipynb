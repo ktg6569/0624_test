{
  "nbformat": 4,
  "nbformat_minor": 0,
  "metadata": {
    "colab": {
      "provenance": [],
      "authorship_tag": "ABX9TyOEphhdBscxPQGSZ+5YXjqj",
      "include_colab_link": true
    },
    "kernelspec": {
      "name": "python3",
      "display_name": "Python 3"
    },
    "language_info": {
      "name": "python"
    }
  },
  "cells": [
    {
      "cell_type": "markdown",
      "metadata": {
        "id": "view-in-github",
        "colab_type": "text"
      },
      "source": [
        "<a href=\"https://colab.research.google.com/github/ktg6569/0624_test/blob/main/0624_test.ipynb\" target=\"_parent\"><img src=\"https://colab.research.google.com/assets/colab-badge.svg\" alt=\"Open In Colab\"/></a>"
      ]
    },
    {
      "cell_type": "markdown",
      "source": [
        "파이썬 리스트"
      ],
      "metadata": {
        "id": "R2u51H6RlUGZ"
      }
    },
    {
      "cell_type": "code",
      "execution_count": 2,
      "metadata": {
        "id": "dx-EGQzoTvPF",
        "colab": {
          "base_uri": "https://localhost:8080/"
        },
        "outputId": "d6510281-6707-434a-cd08-187917a9c0f4"
      },
      "outputs": [
        {
          "output_type": "stream",
          "name": "stdout",
          "text": [
            "['apple', 'banana', 'cherry']\n"
          ]
        }
      ],
      "source": [
        "thislist=[\"apple\", \"banana\", \"cherry\"]\n",
        "print(thislist)"
      ]
    },
    {
      "cell_type": "markdown",
      "source": [
        "리스트 생성자"
      ],
      "metadata": {
        "id": "Wi5GshLdmPFD"
      }
    },
    {
      "cell_type": "code",
      "source": [
        "thislist=list((\"apple\", \"banana\", \"cherry\"))\n",
        "print(thislist)"
      ],
      "metadata": {
        "colab": {
          "base_uri": "https://localhost:8080/"
        },
        "id": "NSEvTwBhmQZM",
        "outputId": "07a08cd7-7ba1-4603-c082-fe97ee645508"
      },
      "execution_count": 3,
      "outputs": [
        {
          "output_type": "stream",
          "name": "stdout",
          "text": [
            "['apple', 'banana', 'cherry']\n"
          ]
        }
      ]
    },
    {
      "cell_type": "markdown",
      "source": [
        "음수 인덱스"
      ],
      "metadata": {
        "id": "lI2zEopQrNFV"
      }
    },
    {
      "cell_type": "code",
      "source": [
        "thislist=[\"apple\", \"banana\", \"cherry\"]\n",
        "print(thislist[-1]) #-1은 마지막 값"
      ],
      "metadata": {
        "colab": {
          "base_uri": "https://localhost:8080/"
        },
        "id": "7yFk7dOCrQ7O",
        "outputId": "65413a8e-aa4a-4142-b81c-a232d00134fe"
      },
      "execution_count": 6,
      "outputs": [
        {
          "output_type": "stream",
          "name": "stdout",
          "text": [
            "cherry\n"
          ]
        }
      ]
    },
    {
      "cell_type": "markdown",
      "source": [
        "리스트 값 변경"
      ],
      "metadata": {
        "id": "Z8bl7MBftaJZ"
      }
    },
    {
      "cell_type": "code",
      "source": [
        "thislist = [\"apple\", \"banana\", \"cherry\"]\n",
        "thislist[1] = \"blackcurrant\"\n",
        "print(thislist)"
      ],
      "metadata": {
        "id": "q6GYkfWjtbjr"
      },
      "execution_count": null,
      "outputs": []
    },
    {
      "cell_type": "markdown",
      "source": [
        "리스트 범위 변경"
      ],
      "metadata": {
        "id": "YeF_Qwy9tepz"
      }
    },
    {
      "cell_type": "code",
      "source": [
        "thislist = [\"apple\", \"banana\", \"cherry\", \"orange\", \"kiwi\", \"mango\"]\n",
        "thislist[1:3] = [\"blackcurrant\", \"watermelon\"]\n",
        "print(thislist)"
      ],
      "metadata": {
        "colab": {
          "base_uri": "https://localhost:8080/"
        },
        "id": "FYNfzt78thtm",
        "outputId": "2ee2d946-d66d-4061-b19b-92a986e99ff9"
      },
      "execution_count": 7,
      "outputs": [
        {
          "output_type": "stream",
          "name": "stdout",
          "text": [
            "['apple', 'blackcurrant', 'watermelon', 'orange', 'kiwi', 'mango']\n"
          ]
        }
      ]
    },
    {
      "cell_type": "markdown",
      "source": [
        "예제1"
      ],
      "metadata": {
        "id": "PFtHlusfu0W2"
      }
    },
    {
      "cell_type": "code",
      "source": [
        "age=19\n",
        "point=85\n",
        "\n",
        "if age>=18:\n",
        "  if point>=80:\n",
        "    print(\"합격\")\n",
        "  else:\n",
        "    print(\"불합격\")\n",
        "else:\n",
        "  print(\"미성년\")"
      ],
      "metadata": {
        "colab": {
          "base_uri": "https://localhost:8080/"
        },
        "id": "93wFk9ppu4Jr",
        "outputId": "d3fa5d89-d6e1-4c2f-a307-5c279ad0bf36"
      },
      "execution_count": 10,
      "outputs": [
        {
          "output_type": "stream",
          "name": "stdout",
          "text": [
            "합격\n"
          ]
        }
      ]
    },
    {
      "cell_type": "markdown",
      "source": [
        "예제2"
      ],
      "metadata": {
        "id": "2x7n1U-3wAh-"
      }
    },
    {
      "cell_type": "code",
      "source": [
        "high_1=170\n",
        "high_2=173\n",
        "high_3=176\n",
        "high_4=177\n",
        "high_5=180\n",
        "\n",
        "sum=high_1+high_2+high_3+high_4+high_5\n",
        "\n",
        "mean=sum/5\n",
        "\n",
        "print(\"5명의 평균키는:\",mean)\n",
        "\n",
        "if mean>=175:\n",
        "  print(\"평균키가 175이상입니다.\")\n",
        "else:\n",
        "  print(\"평균키가 175미만입니다.\")\n",
        ""
      ],
      "metadata": {
        "colab": {
          "base_uri": "https://localhost:8080/"
        },
        "id": "7lla5Ug1wGce",
        "outputId": "87853660-bd47-43fc-9535-35ef38abe471"
      },
      "execution_count": 15,
      "outputs": [
        {
          "output_type": "stream",
          "name": "stdout",
          "text": [
            "5명의 평균키는: 175.2\n",
            "평균키가 175이상입니다.\n"
          ]
        }
      ]
    },
    {
      "cell_type": "markdown",
      "source": [],
      "metadata": {
        "id": "bq1cWapu6JwY"
      }
    },
    {
      "cell_type": "markdown",
      "source": [
        "자율주행 과속판단 if문"
      ],
      "metadata": {
        "id": "26FvmtHV4YYU"
      }
    },
    {
      "cell_type": "code",
      "source": [
        "# 현재 차량 속도 (km/h)\n",
        "current_speed = 70\n",
        "\n",
        "# 제한 속도 (km/h)\n",
        "speed_limit = 50\n",
        "\n",
        "# 과속 여부 판단\n",
        "if current_speed > speed_limit:\n",
        "    print(\"🚨 과속입니다! 속도를 줄이세요.\")\n",
        "else:\n",
        "    print(\"✅ 정상 속도입니다.\")\n"
      ],
      "metadata": {
        "id": "_U-lqOvf4Siw"
      },
      "execution_count": null,
      "outputs": []
    },
    {
      "cell_type": "markdown",
      "source": [
        "자율주행 장애물 거리 if문"
      ],
      "metadata": {
        "id": "2XvAZkXn5oqB"
      }
    },
    {
      "cell_type": "code",
      "source": [
        "# 전방 장애물까지의 거리 (미터)\n",
        "distance_to_obstacle = 3\n",
        "\n",
        "# 정지 기준 거리\n",
        "stop_threshold = 5\n",
        "\n",
        "# 멈출지 여부 판단\n",
        "if distance_to_obstacle <= stop_threshold:\n",
        "    print(\"🛑 정지! 전방에 장애물이 있습니다.\")\n",
        "else:\n",
        "    print(\"✅ 계속 주행합니다.\")\n"
      ],
      "metadata": {
        "id": "ucfyZwLM5naO"
      },
      "execution_count": null,
      "outputs": []
    },
    {
      "cell_type": "markdown",
      "source": [
        "자율주행 신호등 구분 if문"
      ],
      "metadata": {
        "id": "cBKWFeJC6Wga"
      }
    },
    {
      "cell_type": "code",
      "source": [
        "# 인식한 신호등 색깔\n",
        "traffic_light = \"yellow\"\n",
        "\n",
        "# 신호등에 따른 행동 판단\n",
        "if traffic_light == \"red\":\n",
        "    print(\"🛑 정지하세요! (빨간불)\")\n",
        "elif traffic_light == \"green\":\n",
        "    print(\"✅ 출발하세요! (초록불)\")\n",
        "elif traffic_light == \"yellow\":\n",
        "    print(\"⚠️ 감속하세요! (노란불)\")\n",
        "else:\n",
        "    print(\"❓ 신호등 상태를 인식할 수 없습니다.\")\n"
      ],
      "metadata": {
        "id": "exBDXFTp6UL2"
      },
      "execution_count": null,
      "outputs": []
    },
    {
      "cell_type": "markdown",
      "source": [
        "차선이탈 감지 if문"
      ],
      "metadata": {
        "id": "2ioQjbOG7K3c"
      }
    },
    {
      "cell_type": "code",
      "source": [
        "# 차량이 차선을 벗어났는지 여부\n",
        "is_lane_departure = True\n",
        "\n",
        "if is_lane_departure:\n",
        "    print(\"⚠️ 차선을 이탈했습니다! 조향을 조정하세요.\")\n",
        "else:\n",
        "    print(\"✅ 차선을 잘 따라가고 있습니다.\")\n"
      ],
      "metadata": {
        "id": "PIG8KsKd7Pv4"
      },
      "execution_count": null,
      "outputs": []
    },
    {
      "cell_type": "markdown",
      "source": [
        "비오는날 감속 판단 if 문"
      ],
      "metadata": {
        "id": "zagMVUzD7Qv7"
      }
    },
    {
      "cell_type": "code",
      "source": [
        "# 날씨 상태\n",
        "weather = \"rainy\"\n",
        "\n",
        "if weather == \"rainy\":\n",
        "    print(\"🌧️ 비가 오고 있어요. 속도를 줄이세요.\")\n",
        "else:\n",
        "    print(\"☀️ 날씨가 좋습니다. 정상 속도로 주행하세요.\")\n"
      ],
      "metadata": {
        "id": "4NTs3efa7Tjt"
      },
      "execution_count": null,
      "outputs": []
    }
  ]
}